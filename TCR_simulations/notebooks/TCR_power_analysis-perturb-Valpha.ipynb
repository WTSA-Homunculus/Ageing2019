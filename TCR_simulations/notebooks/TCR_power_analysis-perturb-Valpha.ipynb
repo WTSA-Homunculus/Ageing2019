{
 "cells": [
  {
   "cell_type": "markdown",
   "metadata": {},
   "source": [
    "## TCR sequencing power analysis\n",
    "\n",
    "I have simulated 1 million TCR sequences from which to sample to get an idea of how many cells we need to get an accurate representation of the TCR repetoire.  The only step in thymocyte development I have assumed is beta- and positive selection, i.e. there is a functional pair of alpha and beta chains in each T cell."
   ]
  },
  {
   "cell_type": "code",
   "execution_count": 2,
   "metadata": {},
   "outputs": [],
   "source": [
    "import pandas as pd\n",
    "import numpy as np\n",
    "import matplotlib.pyplot as plt\n",
    "import seaborn as sns\n",
    "import random\n",
    "import scipy\n",
    "import math\n",
    "import itertools\n",
    "import re\n",
    "\n",
    "%matplotlib inline"
   ]
  },
  {
   "cell_type": "code",
   "execution_count": 3,
   "metadata": {},
   "outputs": [],
   "source": [
    "infile = \"~/Dropbox/AgeingExperiment/TCR_simulations/1Million_TCRs.txt\"\n",
    "\n",
    "# I need to randomly sample different numbers of TCRs from 100-100K, I'll use ~ 1/2 order of magnitude jumps with \n",
    "# a few extra's in between\n",
    "n_total = 1000000\n",
    "n_samples = [100, 500, 1000, 5000, 10000, 50000, 100000]\n",
    "\n",
    "# for each sample randomly choose integer values between 0 and the number of cells to sample\n",
    "sample_ints = [random.sample(range(n_total), x) for x in n_samples]\n",
    "all_sampled = set(itertools.chain.from_iterable(sample_ints))"
   ]
  },
  {
   "cell_type": "code",
   "execution_count": 4,
   "metadata": {},
   "outputs": [],
   "source": [
    "# need tp selectively remove x% of each segment\n",
    "lose_trav = \"TRAV2\"\n",
    "lose_trbv = \"TRBV1\"\n",
    "\n",
    "pc_samples = [0.01, 0.05, 0.1, 0.25, 0.5]"
   ]
  },
  {
   "cell_type": "code",
   "execution_count": 5,
   "metadata": {
    "scrolled": true
   },
   "outputs": [
    {
     "name": "stderr",
     "output_type": "stream",
     "text": [
      "/Users/morgan02/miniconda3/lib/python3.6/site-packages/ipykernel_launcher.py:29: SettingWithCopyWarning: \n",
      "A value is trying to be set on a copy of a slice from a DataFrame.\n",
      "Try using .loc[row_indexer,col_indexer] = value instead\n",
      "\n",
      "See the caveats in the documentation: http://pandas.pydata.org/pandas-docs/stable/indexing.html#indexing-view-versus-copy\n",
      "/Users/morgan02/miniconda3/lib/python3.6/site-packages/ipykernel_launcher.py:33: SettingWithCopyWarning: \n",
      "A value is trying to be set on a copy of a slice from a DataFrame.\n",
      "Try using .loc[row_indexer,col_indexer] = value instead\n",
      "\n",
      "See the caveats in the documentation: http://pandas.pydata.org/pandas-docs/stable/indexing.html#indexing-view-versus-copy\n"
     ]
    }
   ],
   "source": [
    "# read each line and pull out the sampled ones\n",
    "chunksize = 10000\n",
    "file_block = pd.read_table(infile, index_col=None, sep=\"\\t\", header=0, iterator=True,\n",
    "                          chunksize=chunksize)\n",
    "count = 0\n",
    "sampled_df = []\n",
    "\n",
    "va_perturb_dict = []\n",
    "vb_perturb_dict = []\n",
    "\n",
    "for df_ in file_block:\n",
    "    df_ = df_.loc[df_[\"Valid.TCR\"].isin([True]), ]\n",
    "    # select the line numbers in the 'all_sampled' list\n",
    "    \n",
    "    df_[\"LineNumber\"] = range(count, count + df_.shape[0])\n",
    "    df_ = df_.loc[df_.LineNumber.isin(all_sampled), :]\n",
    "    \n",
    "    if df_.shape[0] > 0:\n",
    "        sampled_df.append(df_)\n",
    "        \n",
    "    # remove 10% of V alpha and V beta\n",
    "    vb_df = df_.loc[df_[\"TRB_V\"].isin([lose_trbv])]\n",
    "    va_df = df_.loc[df_[\"TRA_V\"].isin([lose_trav])]\n",
    "    \n",
    "    # randomly sample X% to remove\n",
    "    for i in pc_samples:\n",
    "        vb_samp = random.sample(list(vb_df.LineNumber), int(vb_df.shape[0] * i))\n",
    "        vb_ = df_.loc[~df_.LineNumber.isin(vb_samp)]\n",
    "        vb_[\"EffectSize\"] = i\n",
    "        \n",
    "        va_samp = random.sample(list(va_df.LineNumber), int(va_df.shape[0] * i))\n",
    "        va_ = df_.loc[~df_.LineNumber.isin(va_samp)]        \n",
    "        va_[\"EffectSize\"] = i\n",
    "        \n",
    "        va_perturb_dict.append(va_)\n",
    "        vb_perturb_dict.append(vb_)\n",
    "            \n",
    "    count += df_.shape[0]"
   ]
  },
  {
   "cell_type": "code",
   "execution_count": 6,
   "metadata": {},
   "outputs": [],
   "source": [
    "va_perturb_data = pd.concat(va_perturb_dict, axis=0)\n",
    "vb_perturb_data = pd.concat(vb_perturb_dict, axis=0)"
   ]
  },
  {
   "cell_type": "code",
   "execution_count": 7,
   "metadata": {},
   "outputs": [
    {
     "data": {
      "text/plain": [
       "(158270, 28)"
      ]
     },
     "execution_count": 7,
     "metadata": {},
     "output_type": "execute_result"
    }
   ],
   "source": [
    "# concatenate the data frames\n",
    "sampled_data = pd.concat(sampled_df, axis=0)\n",
    "sampled_data.shape"
   ]
  },
  {
   "cell_type": "code",
   "execution_count": 8,
   "metadata": {},
   "outputs": [
    {
     "name": "stderr",
     "output_type": "stream",
     "text": [
      "/Users/morgan02/miniconda3/lib/python3.6/site-packages/pandas/core/indexing.py:357: SettingWithCopyWarning: \n",
      "A value is trying to be set on a copy of a slice from a DataFrame.\n",
      "Try using .loc[row_indexer,col_indexer] = value instead\n",
      "\n",
      "See the caveats in the documentation: http://pandas.pydata.org/pandas-docs/stable/indexing.html#indexing-view-versus-copy\n",
      "  self.obj[key] = _infer_fill_value(value)\n",
      "/Users/morgan02/miniconda3/lib/python3.6/site-packages/pandas/core/indexing.py:537: SettingWithCopyWarning: \n",
      "A value is trying to be set on a copy of a slice from a DataFrame.\n",
      "Try using .loc[row_indexer,col_indexer] = value instead\n",
      "\n",
      "See the caveats in the documentation: http://pandas.pydata.org/pandas-docs/stable/indexing.html#indexing-view-versus-copy\n",
      "  self.obj[item] = s\n"
     ]
    },
    {
     "name": "stdout",
     "output_type": "stream",
     "text": [
      "(68, 32)\n",
      "(516, 32)\n",
      "(1021, 32)\n",
      "(4997, 32)\n",
      "(10026, 32)\n",
      "(50009, 32)\n",
      "(99219, 32)\n"
     ]
    }
   ],
   "source": [
    "# now calculate different metrics and measures of diversity.  Firstly, CDR entropy\n",
    "entropy_dict = {}\n",
    "cdr3_len_dict = {}\n",
    "\n",
    "vseg_use_dict = {}\n",
    "jseg_use_dict = {}\n",
    "\n",
    "chain_pairing_dict = {}\n",
    "segment_pairing_dict = {}\n",
    "\n",
    "tra_cdr3_clones = {}\n",
    "trb_cdr3_clones = {}\n",
    "\n",
    "for i in range(len(n_samples)):\n",
    "    n_samp = n_samples[i]\n",
    "    sample_lines = sample_ints[i]\n",
    "    \n",
    "    samp_df = sampled_data.loc[sampled_data.LineNumber.isin(sample_lines), ]\n",
    "    \n",
    "    entropy_dict[str(n_samp)] = pd.melt(pd.DataFrame({\"alpha\": samp_df.TRA_CDR3_entropy,\n",
    "                                                      \"beta\": samp_df.TRB_CDR3_entropy}))\n",
    "    \n",
    "    cdr3_len_dict[str(n_samp)] = pd.melt(pd.DataFrame({\"alpha\": samp_df.TRB_CDR3.astype(str).apply(len),\n",
    "                                                       \"beta\": samp_df.TRB_CDR3.astype(str).apply(len)}))\n",
    "    \n",
    "    # count the occurences of specific CDR3 sequences to get a total diversity\n",
    "    tra_cdr3_clones[str(n_samp)] = samp_df.TRA_CDR3.value_counts()\n",
    "    trb_cdr3_clones[str(n_samp)] = samp_df.TRB_CDR3.value_counts()\n",
    "    \n",
    "    # need calculate percentage rather than absolute counts\n",
    "    vseg_use = pd.DataFrame({\"alpha\": samp_df.TRA_V.value_counts()/n_samp,\n",
    "                             \"beta\": samp_df.TRB_V.value_counts()/n_samp})\n",
    "    vseg_use.reset_index(inplace=True)\n",
    "    vseg_use.columns = [\"Segment\", \"alpha\", \"beta\"]\n",
    "    \n",
    "    vseg_use_dict[str(n_samp)] = pd.melt(vseg_use, id_vars=\"Segment\")\n",
    "       \n",
    "    jseg_use = pd.DataFrame({\"alpha\": samp_df.TRA_J.value_counts()/n_samp,\n",
    "                             \"beta\": samp_df.TRB_J.value_counts()/n_samp})\n",
    "    jseg_use.reset_index(inplace=True)\n",
    "    jseg_use.columns = [\"Segment\", \"alpha\", \"beta\"]\n",
    "    \n",
    "    jseg_use_dict[str(n_samp)] = pd.melt(jseg_use, id_vars=\"Segment\")\n",
    "    \n",
    "    # record the V and J pairing within a chain\n",
    "    samp_df.loc[:, \"AlphaPair\"] = samp_df.apply(lambda X: \"_\".join([X.TRA_V, X.TRA_J]), axis=1)\n",
    "    samp_df.loc[:, \"BetaPair\"] = samp_df.apply(lambda X: \"_\".join([X.TRB_V, X.TRB_J]), axis=1)\n",
    "    \n",
    "    pair_use = pd.DataFrame({\"alpha\": samp_df.AlphaPair.value_counts()/n_samp,\n",
    "                              \"beta\": samp_df.BetaPair.value_counts()/n_samp})\n",
    "    pair_use.reset_index(inplace=True)\n",
    "    pair_use.columns = [\"Pair\", \"alpha\", \"beta\"]\n",
    "    \n",
    "    segment_pairing_dict[str(n_samp)] = pd.melt(pair_use, id_vars=\"Pair\")\n",
    "    \n",
    "    # record the V and J pairing between chains\n",
    "    samp_df.loc[:, \"Vpair\"] = samp_df.apply(lambda X: \"_\".join([X.TRA_V, X.TRB_V]), axis=1)\n",
    "    samp_df.loc[:, \"Jpair\"] = samp_df.apply(lambda X: \"_\".join([X.TRA_J, X.TRB_J]), axis=1)\n",
    "    \n",
    "    chain_use = pd.DataFrame({\"Vseg\": samp_df.Vpair.value_counts()/n_samp,\n",
    "                              \"Jseg\": samp_df.Jpair.value_counts()/n_samp})\n",
    "    chain_use.reset_index(inplace=True)\n",
    "    chain_use.columns = [\"Pair\", \"Vseg\", \"Jseg\"]\n",
    "    \n",
    "    chain_pairing_dict[str(n_samp)] = pd.melt(chain_use, id_vars=\"Pair\")\n",
    "    \n",
    "    print(samp_df.shape)\n",
    "    "
   ]
  },
  {
   "cell_type": "code",
   "execution_count": 9,
   "metadata": {},
   "outputs": [],
   "source": [
    "entropy_df = pd.concat(entropy_dict)\n",
    "entropy_df.reset_index(inplace=True)\n",
    "entropy_df.columns = [\"Sample\", \"Level\", \"Chain\", \"Entropy\"]\n",
    "entropy_df.loc[entropy_df.Entropy.isna(), \"Entropy\"] = 0\n",
    "\n",
    "\n",
    "length_df = pd.concat(cdr3_len_dict)\n",
    "length_df.reset_index(inplace=True)\n",
    "length_df.columns = [\"Sample\", \"Level\", \"Chain\", \"Length\"]\n",
    "length_df.loc[length_df.Length.isna(), \"Length\"] = 0"
   ]
  },
  {
   "cell_type": "code",
   "execution_count": 10,
   "metadata": {
    "scrolled": true
   },
   "outputs": [],
   "source": [
    "vseg_df = pd.concat(vseg_use_dict)\n",
    "vseg_df.reset_index(inplace=True)\n",
    "vseg_df.columns = [\"Sample\", \"Level\", \"Segment\", \"Chain\", \"Counts\"]\n",
    "# remove TRAV segments from the beta chains\n",
    "vseg_df = vseg_df.loc[~((vseg_df[\"Chain\"] == \"beta\") & (vseg_df[\"Segment\"].str.contains(\"TRAV\")))]\n",
    "vseg_df = vseg_df.loc[~((vseg_df[\"Chain\"] == \"alpha\") & (vseg_df[\"Segment\"].str.contains(\"TRBV\")))]\n",
    "vseg_df.loc[vseg_df.Counts.isna(), \"Counts\"] = 0"
   ]
  },
  {
   "cell_type": "code",
   "execution_count": 11,
   "metadata": {},
   "outputs": [],
   "source": [
    "jseg_df = pd.concat(jseg_use_dict)\n",
    "jseg_df.reset_index(inplace=True)\n",
    "jseg_df.columns = [\"Sample\", \"Level\", \"Segment\", \"Chain\", \"Counts\"]\n",
    "# remove TRAV segments from the beta chains\n",
    "jseg_df = jseg_df.loc[~((jseg_df[\"Chain\"] == \"beta\") & (jseg_df[\"Segment\"].str.contains(\"TRAJ\")))]\n",
    "jseg_df = jseg_df.loc[~((jseg_df[\"Chain\"] == \"alpha\") & (jseg_df[\"Segment\"].str.contains(\"TRBJ\")))]\n",
    "jseg_df.loc[jseg_df.Counts.isna(), \"Counts\"] = 0"
   ]
  },
  {
   "cell_type": "code",
   "execution_count": 12,
   "metadata": {},
   "outputs": [],
   "source": [
    "traj_segs = set(jseg_df.Segment.loc[jseg_df.Segment.str.contains(\"TRAJ\")].values)\n",
    "trbj_segs = set(jseg_df.Segment.loc[jseg_df.Segment.str.contains(\"TRBJ\")].values)\n",
    "\n",
    "trav_segs = set(vseg_df.Segment.loc[vseg_df.Segment.str.contains(\"TRAV\")].values)\n",
    "trbv_segs = set(vseg_df.Segment.loc[vseg_df.Segment.str.contains(\"TRBV\")].values)\n",
    "\n",
    "v_combs = [\"_\".join(v) for v in itertools.product(trav_segs, trbv_segs)]\n",
    "j_combs = [\"_\".join(j) for j in itertools.product(traj_segs, trbj_segs)]\n",
    "\n",
    "alpha_combs = [\"_\".join(av) for av in itertools.product(trav_segs, traj_segs)]\n",
    "beta_combs = [\"_\".join(bv) for bv in itertools.product(trbv_segs, trbj_segs)]"
   ]
  },
  {
   "cell_type": "code",
   "execution_count": 44,
   "metadata": {
    "scrolled": true
   },
   "outputs": [],
   "source": [
    "# now calculate different metrics and measures of diversity.  Firstly, CDR entropy\n",
    "\n",
    "#va_perturb_data\n",
    "#vb_perturb_data\n",
    "va_lines = va_perturb_data.shape[0]\n",
    "vb_lines = vb_perturb_data.shape[0]\n",
    "\n",
    "perturb_entropy_dict = {}\n",
    "perturb_cdr3_len_dict = {}\n",
    "\n",
    "perturb_vseg_use_dict = {}\n",
    "perturb_jseg_use_dict = {}\n",
    "\n",
    "perturb_chain_pairing_dict = {}\n",
    "perturb_segment_pairing_dict = {}\n",
    "\n",
    "perturb_tra_cdr3_clones = {}\n",
    "perturb_trb_cdr3_clones = {}\n",
    "\n",
    "for x in range(len(n_samples)):\n",
    "    n_samp = n_samples[x]\n",
    "        \n",
    "    # summarise within each effect size\n",
    "    va_pc_entropy_list = []\n",
    "    vb_pc_entropy_list = []\n",
    "    \n",
    "    va_pc_usage_list = []\n",
    "    vb_pc_usage_list = []    \n",
    "    \n",
    "    for i in pc_samples:\n",
    "        va_eff_df = va_perturb_data.loc[va_perturb_data.EffectSize == i]\n",
    "        vb_eff_df = vb_perturb_data.loc[vb_perturb_data.EffectSize == i]\n",
    "        \n",
    "        va_sampl = random.sample(range(va_eff_df.shape[0]), n_samp)\n",
    "        vb_sampl = random.sample(range(vb_eff_df.shape[0]), n_samp)\n",
    "\n",
    "        va_samp = va_eff_df.iloc[va_sampl]\n",
    "        vb_samp = vb_eff_df.iloc[vb_sampl]\n",
    "        \n",
    "        \n",
    "        # changes in entropy\n",
    "        va_ent = pd.melt(pd.DataFrame(va_samp.TRA_CDR3_entropy))\n",
    "        va_ent[\"EffectSize\"] = i\n",
    "        \n",
    "        vb_ent = pd.melt(pd.DataFrame(vb_samp.TRB_CDR3_entropy))\n",
    "        vb_ent[\"EffectSize\"] = i\n",
    "        \n",
    "        va_pc_entropy_list.append(va_ent)\n",
    "        vb_pc_entropy_list.append(vb_ent)\n",
    "        \n",
    "        # changes in V usage\n",
    "        va_usage = pd.DataFrame(va_samp.TRA_V.value_counts()/va_samp.shape[0])\n",
    "        va_usage.reset_index(inplace=True)\n",
    "        va_usage.columns = [\"Segment\", \"Frequency\"]\n",
    "        va_usage = pd.melt(va_usage, id_vars=[\"Segment\"])\n",
    "        va_usage[\"EffectSize\"] = i\n",
    "        \n",
    "        va_pc_usage_list.append(va_usage)\n",
    "        \n",
    "        vb_usage = pd.DataFrame(vb_samp.TRB_V.value_counts()/vb_samp.shape[0])\n",
    "        vb_usage.reset_index(inplace=True)\n",
    "        vb_usage.columns = [\"Segment\", \"Frequency\"]\n",
    "        vb_usage = pd.melt(vb_usage, id_vars=[\"Segment\"])\n",
    "        vb_usage[\"EffectSize\"] = i\n",
    "        \n",
    "        vb_pc_usage_list.append(vb_usage)\n",
    "        \n",
    "        \n",
    "    va_entropy_perturb = pd.concat(va_pc_entropy_list)\n",
    "    va_entropy_perturb[\"Sample\"] = n_samp\n",
    "    \n",
    "    vb_entropy_perturb = pd.concat(vb_pc_entropy_list)\n",
    "    vb_entropy_perturb[\"Sample\"] = n_samp\n",
    "    \n",
    "    perturb_entropy_dict[str(n_samp)] = pd.concat([va_entropy_perturb, vb_entropy_perturb])\n",
    "    \n",
    "    va_usage_perturb = pd.concat(va_pc_usage_list)\n",
    "    va_usage_perturb[\"Sample\"] = n_samp\n",
    "    \n",
    "    vb_usage_perturb = pd.concat(vb_pc_usage_list)\n",
    "    vb_usage_perturb[\"Sample\"] = n_samp\n",
    "        \n",
    "    perturb_vseg_use_dict[str(n_samp)] = pd.concat([va_usage_perturb, vb_usage_perturb])\n",
    "        \n",
    "        #print(va_eff_df.head())\n",
    "    #break\n",
    "        \n",
    "    \n",
    "#     sample_lines = sample_ints[i]\n",
    "    \n",
    "#     samp_df = sampled_data.loc[sampled_data.LineNumber.isin(sample_lines), ]\n",
    "    \n",
    "#     \n",
    "    \n",
    "#     cdr3_len_dict[str(n_samp)] = pd.melt(pd.DataFrame({\"alpha\": samp_df.TRB_CDR3.astype(str).apply(len),\n",
    "#                                                        \"beta\": samp_df.TRB_CDR3.astype(str).apply(len)}))\n",
    "    \n",
    "#     # count the occurences of specific CDR3 sequences to get a total diversity\n",
    "#     tra_cdr3_clones[str(n_samp)] = samp_df.TRA_CDR3.value_counts()\n",
    "#     trb_cdr3_clones[str(n_samp)] = samp_df.TRB_CDR3.value_counts()\n",
    "    \n",
    "#     # need calculate percentage rather than absolute counts\n",
    "#     vseg_use = pd.DataFrame({\"alpha\": samp_df.TRA_V.value_counts()/n_samp,\n",
    "#                              \"beta\": samp_df.TRB_V.value_counts()/n_samp})\n",
    "#     vseg_use.reset_index(inplace=True)\n",
    "#     vseg_use.columns = [\"Segment\", \"alpha\", \"beta\"]\n",
    "    \n",
    "#     vseg_use_dict[str(n_samp)] = pd.melt(vseg_use, id_vars=\"Segment\")\n",
    "       \n",
    "#     jseg_use = pd.DataFrame({\"alpha\": samp_df.TRA_J.value_counts()/n_samp,\n",
    "#                              \"beta\": samp_df.TRB_J.value_counts()/n_samp})\n",
    "#     jseg_use.reset_index(inplace=True)\n",
    "#     jseg_use.columns = [\"Segment\", \"alpha\", \"beta\"]\n",
    "    \n",
    "#     jseg_use_dict[str(n_samp)] = pd.melt(jseg_use, id_vars=\"Segment\")\n",
    "    \n",
    "#     # record the V and J pairing within a chain\n",
    "#     samp_df.loc[:, \"AlphaPair\"] = samp_df.apply(lambda X: \"_\".join([X.TRA_V, X.TRA_J]), axis=1)\n",
    "#     samp_df.loc[:, \"BetaPair\"] = samp_df.apply(lambda X: \"_\".join([X.TRB_V, X.TRB_J]), axis=1)\n",
    "    \n",
    "#     pair_use = pd.DataFrame({\"alpha\": samp_df.AlphaPair.value_counts()/n_samp,\n",
    "#                               \"beta\": samp_df.BetaPair.value_counts()/n_samp})\n",
    "#     pair_use.reset_index(inplace=True)\n",
    "#     pair_use.columns = [\"Pair\", \"alpha\", \"beta\"]\n",
    "    \n",
    "#     segment_pairing_dict[str(n_samp)] = pd.melt(pair_use, id_vars=\"Pair\")\n",
    "    \n",
    "#     # record the V and J pairing between chains\n",
    "#     samp_df.loc[:, \"Vpair\"] = samp_df.apply(lambda X: \"_\".join([X.TRA_V, X.TRB_V]), axis=1)\n",
    "#     samp_df.loc[:, \"Jpair\"] = samp_df.apply(lambda X: \"_\".join([X.TRA_J, X.TRB_J]), axis=1)\n",
    "    \n",
    "#     chain_use = pd.DataFrame({\"Vseg\": samp_df.Vpair.value_counts()/n_samp,\n",
    "#                               \"Jseg\": samp_df.Jpair.value_counts()/n_samp})\n",
    "#     chain_use.reset_index(inplace=True)\n",
    "#     chain_use.columns = [\"Pair\", \"Vseg\", \"Jseg\"]\n",
    "    \n",
    "#     chain_pairing_dict[str(n_samp)] = pd.melt(chain_use, id_vars=\"Pair\")\n",
    "    \n",
    "#     print(samp_df.shape)\n",
    "    "
   ]
  },
  {
   "cell_type": "code",
   "execution_count": null,
   "metadata": {},
   "outputs": [],
   "source": []
  },
  {
   "cell_type": "code",
   "execution_count": 128,
   "metadata": {},
   "outputs": [
    {
     "data": {
      "text/html": [
       "<div>\n",
       "<style scoped>\n",
       "    .dataframe tbody tr th:only-of-type {\n",
       "        vertical-align: middle;\n",
       "    }\n",
       "\n",
       "    .dataframe tbody tr th {\n",
       "        vertical-align: top;\n",
       "    }\n",
       "\n",
       "    .dataframe thead th {\n",
       "        text-align: right;\n",
       "    }\n",
       "</style>\n",
       "<table border=\"1\" class=\"dataframe\">\n",
       "  <thead>\n",
       "    <tr style=\"text-align: right;\">\n",
       "      <th></th>\n",
       "      <th>Segment</th>\n",
       "      <th>variable</th>\n",
       "      <th>value</th>\n",
       "      <th>EffectSize</th>\n",
       "      <th>Sample</th>\n",
       "      <th>Chain</th>\n",
       "      <th>Level</th>\n",
       "      <th>Counts</th>\n",
       "      <th>Difference</th>\n",
       "      <th>Deviation</th>\n",
       "    </tr>\n",
       "  </thead>\n",
       "  <tbody>\n",
       "    <tr>\n",
       "      <th>0</th>\n",
       "      <td>TRAV3D-3</td>\n",
       "      <td>Frequency</td>\n",
       "      <td>0.04</td>\n",
       "      <td>0.01</td>\n",
       "      <td>100</td>\n",
       "      <td>alpha</td>\n",
       "      <td>25</td>\n",
       "      <td>0.02</td>\n",
       "      <td>2.0</td>\n",
       "      <td>1.99</td>\n",
       "    </tr>\n",
       "    <tr>\n",
       "      <th>1</th>\n",
       "      <td>TRAV3D-3</td>\n",
       "      <td>Frequency</td>\n",
       "      <td>0.02</td>\n",
       "      <td>0.05</td>\n",
       "      <td>100</td>\n",
       "      <td>alpha</td>\n",
       "      <td>25</td>\n",
       "      <td>0.02</td>\n",
       "      <td>1.0</td>\n",
       "      <td>0.95</td>\n",
       "    </tr>\n",
       "    <tr>\n",
       "      <th>2</th>\n",
       "      <td>TRAV3D-3</td>\n",
       "      <td>Frequency</td>\n",
       "      <td>0.01</td>\n",
       "      <td>0.25</td>\n",
       "      <td>100</td>\n",
       "      <td>alpha</td>\n",
       "      <td>25</td>\n",
       "      <td>0.02</td>\n",
       "      <td>0.5</td>\n",
       "      <td>0.25</td>\n",
       "    </tr>\n",
       "    <tr>\n",
       "      <th>3</th>\n",
       "      <td>TRAV3D-3</td>\n",
       "      <td>Frequency</td>\n",
       "      <td>0.01</td>\n",
       "      <td>0.50</td>\n",
       "      <td>100</td>\n",
       "      <td>alpha</td>\n",
       "      <td>25</td>\n",
       "      <td>0.02</td>\n",
       "      <td>0.5</td>\n",
       "      <td>0.00</td>\n",
       "    </tr>\n",
       "    <tr>\n",
       "      <th>4</th>\n",
       "      <td>TRAV14N-3</td>\n",
       "      <td>Frequency</td>\n",
       "      <td>0.03</td>\n",
       "      <td>0.01</td>\n",
       "      <td>100</td>\n",
       "      <td>alpha</td>\n",
       "      <td>13</td>\n",
       "      <td>0.01</td>\n",
       "      <td>3.0</td>\n",
       "      <td>2.99</td>\n",
       "    </tr>\n",
       "  </tbody>\n",
       "</table>\n",
       "</div>"
      ],
      "text/plain": [
       "     Segment   variable  value  EffectSize Sample  Chain  Level  Counts  \\\n",
       "0   TRAV3D-3  Frequency   0.04        0.01    100  alpha     25    0.02   \n",
       "1   TRAV3D-3  Frequency   0.02        0.05    100  alpha     25    0.02   \n",
       "2   TRAV3D-3  Frequency   0.01        0.25    100  alpha     25    0.02   \n",
       "3   TRAV3D-3  Frequency   0.01        0.50    100  alpha     25    0.02   \n",
       "4  TRAV14N-3  Frequency   0.03        0.01    100  alpha     13    0.01   \n",
       "\n",
       "   Difference  Deviation  \n",
       "0         2.0       1.99  \n",
       "1         1.0       0.95  \n",
       "2         0.5       0.25  \n",
       "3         0.5       0.00  \n",
       "4         3.0       2.99  "
      ]
     },
     "execution_count": 128,
     "metadata": {},
     "output_type": "execute_result"
    }
   ],
   "source": [
    "vseg_perturb = pd.concat(perturb_vseg_use_dict)\n",
    "vseg_perturb[\"Chain\"] = \"\"\n",
    "vseg_perturb.loc[vseg_perturb[\"Segment\"].str.contains(\"TRA\"), \"Chain\"] = \"alpha\"\n",
    "vseg_perturb.loc[vseg_perturb[\"Segment\"].str.contains(\"TRB\"), \"Chain\"] = \"beta\"\n",
    "vseg_perturb.Sample = vseg_perturb.Sample.astype(str)\n",
    "\n",
    "# merge with the true sample df\n",
    "vseg_merge = pd.merge(vseg_perturb, vseg_df, left_on=[\"Segment\", \"Chain\", \"Sample\"],\n",
    "                      right_on=[\"Segment\", \"Chain\", \"Sample\"])\n",
    "\n",
    "vseg_merge[\"Difference\"] = vseg_merge.value / vseg_merge.Counts\n",
    "vseg_merge[\"Deviation\"] = vseg_merge.Difference - vseg_merge.EffectSize\n",
    "vseg_merge.head()"
   ]
  },
  {
   "cell_type": "code",
   "execution_count": 137,
   "metadata": {},
   "outputs": [
    {
     "data": {
      "text/html": [
       "<div>\n",
       "<style scoped>\n",
       "    .dataframe tbody tr th:only-of-type {\n",
       "        vertical-align: middle;\n",
       "    }\n",
       "\n",
       "    .dataframe tbody tr th {\n",
       "        vertical-align: top;\n",
       "    }\n",
       "\n",
       "    .dataframe thead th {\n",
       "        text-align: right;\n",
       "    }\n",
       "</style>\n",
       "<table border=\"1\" class=\"dataframe\">\n",
       "  <thead>\n",
       "    <tr style=\"text-align: right;\">\n",
       "      <th></th>\n",
       "      <th>Sample</th>\n",
       "      <th>Level</th>\n",
       "      <th>Segment</th>\n",
       "      <th>Chain</th>\n",
       "      <th>Counts</th>\n",
       "    </tr>\n",
       "  </thead>\n",
       "  <tbody>\n",
       "    <tr>\n",
       "      <th>120</th>\n",
       "      <td>100</td>\n",
       "      <td>120</td>\n",
       "      <td>TRBV1</td>\n",
       "      <td>beta</td>\n",
       "      <td>0.05000</td>\n",
       "    </tr>\n",
       "    <tr>\n",
       "      <th>376</th>\n",
       "      <td>1000</td>\n",
       "      <td>236</td>\n",
       "      <td>TRBV1</td>\n",
       "      <td>beta</td>\n",
       "      <td>0.04700</td>\n",
       "    </tr>\n",
       "    <tr>\n",
       "      <th>632</th>\n",
       "      <td>10000</td>\n",
       "      <td>236</td>\n",
       "      <td>TRBV1</td>\n",
       "      <td>beta</td>\n",
       "      <td>0.05280</td>\n",
       "    </tr>\n",
       "    <tr>\n",
       "      <th>888</th>\n",
       "      <td>100000</td>\n",
       "      <td>236</td>\n",
       "      <td>TRBV1</td>\n",
       "      <td>beta</td>\n",
       "      <td>0.05093</td>\n",
       "    </tr>\n",
       "    <tr>\n",
       "      <th>1144</th>\n",
       "      <td>500</td>\n",
       "      <td>236</td>\n",
       "      <td>TRBV1</td>\n",
       "      <td>beta</td>\n",
       "      <td>0.05400</td>\n",
       "    </tr>\n",
       "    <tr>\n",
       "      <th>1400</th>\n",
       "      <td>5000</td>\n",
       "      <td>236</td>\n",
       "      <td>TRBV1</td>\n",
       "      <td>beta</td>\n",
       "      <td>0.05020</td>\n",
       "    </tr>\n",
       "    <tr>\n",
       "      <th>1656</th>\n",
       "      <td>50000</td>\n",
       "      <td>236</td>\n",
       "      <td>TRBV1</td>\n",
       "      <td>beta</td>\n",
       "      <td>0.05404</td>\n",
       "    </tr>\n",
       "  </tbody>\n",
       "</table>\n",
       "</div>"
      ],
      "text/plain": [
       "      Sample  Level Segment Chain   Counts\n",
       "120      100    120   TRBV1  beta  0.05000\n",
       "376     1000    236   TRBV1  beta  0.04700\n",
       "632    10000    236   TRBV1  beta  0.05280\n",
       "888   100000    236   TRBV1  beta  0.05093\n",
       "1144     500    236   TRBV1  beta  0.05400\n",
       "1400    5000    236   TRBV1  beta  0.05020\n",
       "1656   50000    236   TRBV1  beta  0.05404"
      ]
     },
     "execution_count": 137,
     "metadata": {},
     "output_type": "execute_result"
    }
   ],
   "source": [
    "vseg_df.loc[vseg_df[\"Segment\"] == lose_trbv]"
   ]
  },
  {
   "cell_type": "code",
   "execution_count": 134,
   "metadata": {},
   "outputs": [
    {
     "data": {
      "image/png": "[encoded data removed]",
      "text/plain": [
       "<Figure size 937.625x288 with 1 Axes>"
      ]
     },
     "metadata": {},
     "output_type": "display_data"
    }
   ],
   "source": [
    "ax = sns.factorplot(x=\"EffectSize\", y=\"Deviation\", kind=\"bar\",\n",
    "                    row=\"Segment\", aspect=3,\n",
    "                    hue_order=[\"100\", \"500\", \"1000\", \"5000\", \"10000\", \"50000\", \"100000\"],\n",
    "                    data=vseg_merge.loc[(vseg_merge[\"Chain\"] == \"alpha\") & (vseg_merge[\"Segment\"] == lose_trav)], \n",
    "                    hue=\"Sample\")\n",
    "\n",
    "ax.set(ylabel=\"Deviation\", xlabel=\"% change in frequency\")\n",
    "\n",
    "#plt.legend(loc=2, bbox_to_anchor=(1.05, 1))\n",
    "plt.savefig(fname=\"/Users/morgan02/Dropbox/AgeingExperiment/TCR_simulations/TRAV2_deviation-power.png\",\n",
    "           bbox_inches='tight', dpi=300)\n",
    "plt.show()"
   ]
  },
  {
   "cell_type": "code",
   "execution_count": 135,
   "metadata": {
    "scrolled": false
   },
   "outputs": [
    {
     "data": {
      "image/png": "[encoded data removed]",
      "text/plain": [
       "<Figure size 937.625x288 with 1 Axes>"
      ]
     },
     "metadata": {},
     "output_type": "display_data"
    }
   ],
   "source": [
    "ax = sns.factorplot(x=\"EffectSize\", y=\"Deviation\", kind=\"bar\",\n",
    "                    row=\"Segment\", aspect=3,\n",
    "                    hue_order=[\"100\", \"500\", \"1000\", \"5000\", \"10000\", \"50000\", \"100000\"],\n",
    "                    data=vseg_merge.loc[(vseg_merge[\"Chain\"] == \"beta\") & (vseg_merge[\"Segment\"] == lose_trbv)], \n",
    "                    hue=\"Sample\")\n",
    "\n",
    "ax.set(ylabel=\"Deviation\", xlabel=\"% change in frequency\")\n",
    "plt.savefig(fname=\"/Users/morgan02/Dropbox/AgeingExperiment/TCR_simulations/TRBV1_deviation-power.png\",\n",
    "           bbox_inches='tight', dpi=300)\n",
    "plt.show()"
   ]
  },
  {
   "cell_type": "code",
   "execution_count": 118,
   "metadata": {},
   "outputs": [
    {
     "data": {
      "text/html": [
       "<div>\n",
       "<style scoped>\n",
       "    .dataframe tbody tr th:only-of-type {\n",
       "        vertical-align: middle;\n",
       "    }\n",
       "\n",
       "    .dataframe tbody tr th {\n",
       "        vertical-align: top;\n",
       "    }\n",
       "\n",
       "    .dataframe thead th {\n",
       "        text-align: right;\n",
       "    }\n",
       "</style>\n",
       "<table border=\"1\" class=\"dataframe\">\n",
       "  <thead>\n",
       "    <tr style=\"text-align: right;\">\n",
       "      <th></th>\n",
       "      <th></th>\n",
       "      <th>variable</th>\n",
       "      <th>value</th>\n",
       "      <th>EffectSize</th>\n",
       "      <th>Sample</th>\n",
       "      <th>Chain</th>\n",
       "    </tr>\n",
       "  </thead>\n",
       "  <tbody>\n",
       "    <tr>\n",
       "      <th rowspan=\"5\" valign=\"top\">100</th>\n",
       "      <th>0</th>\n",
       "      <td>TRA_CDR3_entropy</td>\n",
       "      <td>2.037734</td>\n",
       "      <td>0.01</td>\n",
       "      <td>100</td>\n",
       "      <td>alpha</td>\n",
       "    </tr>\n",
       "    <tr>\n",
       "      <th>1</th>\n",
       "      <td>TRA_CDR3_entropy</td>\n",
       "      <td>2.163956</td>\n",
       "      <td>0.01</td>\n",
       "      <td>100</td>\n",
       "      <td>alpha</td>\n",
       "    </tr>\n",
       "    <tr>\n",
       "      <th>2</th>\n",
       "      <td>TRA_CDR3_entropy</td>\n",
       "      <td>1.956187</td>\n",
       "      <td>0.01</td>\n",
       "      <td>100</td>\n",
       "      <td>alpha</td>\n",
       "    </tr>\n",
       "    <tr>\n",
       "      <th>3</th>\n",
       "      <td>TRA_CDR3_entropy</td>\n",
       "      <td>2.086769</td>\n",
       "      <td>0.01</td>\n",
       "      <td>100</td>\n",
       "      <td>alpha</td>\n",
       "    </tr>\n",
       "    <tr>\n",
       "      <th>4</th>\n",
       "      <td>TRA_CDR3_entropy</td>\n",
       "      <td>2.118649</td>\n",
       "      <td>0.01</td>\n",
       "      <td>100</td>\n",
       "      <td>alpha</td>\n",
       "    </tr>\n",
       "  </tbody>\n",
       "</table>\n",
       "</div>"
      ],
      "text/plain": [
       "               variable     value  EffectSize  Sample  Chain\n",
       "100 0  TRA_CDR3_entropy  2.037734        0.01     100  alpha\n",
       "    1  TRA_CDR3_entropy  2.163956        0.01     100  alpha\n",
       "    2  TRA_CDR3_entropy  1.956187        0.01     100  alpha\n",
       "    3  TRA_CDR3_entropy  2.086769        0.01     100  alpha\n",
       "    4  TRA_CDR3_entropy  2.118649        0.01     100  alpha"
      ]
     },
     "execution_count": 118,
     "metadata": {},
     "output_type": "execute_result"
    }
   ],
   "source": [
    "entropy_perturb = pd.concat(perturb_entropy_dict)\n",
    "entropy_perturb[\"Chain\"] = \"\"\n",
    "entropy_perturb.loc[entropy_perturb[\"variable\"].str.contains(\"TRA\"), \"Chain\"] = \"alpha\"\n",
    "entropy_perturb.loc[entropy_perturb[\"variable\"].str.contains(\"TRB\"), \"Chain\"] = \"beta\"\n",
    "entropy_perturb.head()"
   ]
  },
  {
   "cell_type": "code",
   "execution_count": 27,
   "metadata": {},
   "outputs": [
    {
     "data": {
      "image/png": "[encoded data removed]",
      "text/plain": [
       "<Figure size 576x252 with 1 Axes>"
      ]
     },
     "metadata": {},
     "output_type": "display_data"
    }
   ],
   "source": [
    "plt.figure(figsize=(8, 3.5))\n",
    "ax = sns.boxplot(x=\"EffectSize\", y=\"value\", data=entropy_perturb.loc[entropy_perturb[\"Chain\"] == \"beta\"], \n",
    "                 hue=\"Sample\")\n",
    "\n",
    "ax.set(ylabel=\"CDR3 entropy\", xlabel=\"% change in V region\")\n",
    "\n",
    "plt.legend(loc=2, bbox_to_anchor=(1.05, 1))\n",
    "plt.show()"
   ]
  },
  {
   "cell_type": "code",
   "execution_count": 28,
   "metadata": {},
   "outputs": [
    {
     "data": {
      "image/png": "[encoded data removed]",
      "text/plain": [
       "<Figure size 576x252 with 1 Axes>"
      ]
     },
     "metadata": {},
     "output_type": "display_data"
    }
   ],
   "source": [
    "plt.figure(figsize=(8, 3.5))\n",
    "ax = sns.boxplot(x=\"EffectSize\", y=\"value\", data=entropy_perturb.loc[entropy_perturb[\"Chain\"] == \"alpha\"], \n",
    "                 hue=\"Sample\")\n",
    "\n",
    "ax.set(ylabel=\"CDR3 entropy\", xlabel=\"% change in V region\")\n",
    "\n",
    "plt.legend(loc=2, bbox_to_anchor=(1.05, 1))\n",
    "plt.show()"
   ]
  },
  {
   "cell_type": "code",
   "execution_count": 138,
   "metadata": {},
   "outputs": [
    {
     "data": {
      "text/plain": [
       "1263600"
      ]
     },
     "execution_count": 138,
     "metadata": {},
     "output_type": "execute_result"
    }
   ],
   "source": [
    "2160*585"
   ]
  },
  {
   "cell_type": "code",
   "execution_count": null,
   "metadata": {},
   "outputs": [],
   "source": []
  }
 ],
 "metadata": {
  "kernelspec": {
   "display_name": "Python 3",
   "language": "python",
   "name": "python3"
  },
  "language_info": {
   "codemirror_mode": {
    "name": "ipython",
    "version": 3
   },
   "file_extension": ".py",
   "mimetype": "text/x-python",
   "name": "python",
   "nbconvert_exporter": "python",
   "pygments_lexer": "ipython3",
   "version": "3.6.4"
  }
 },
 "nbformat": 4,
 "nbformat_minor": 2
}
